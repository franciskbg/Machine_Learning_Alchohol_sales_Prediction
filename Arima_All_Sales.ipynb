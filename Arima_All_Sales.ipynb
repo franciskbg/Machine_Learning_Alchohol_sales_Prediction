{
 "cells": [
  {
   "cell_type": "code",
   "execution_count": 1,
   "metadata": {},
   "outputs": [],
   "source": [
    "%matplotlib inline"
   ]
  },
  {
   "cell_type": "code",
   "execution_count": 2,
   "metadata": {},
   "outputs": [],
   "source": [
    "import pandas as pd\n",
    "import numpy as np\n",
    "import matplotlib.pyplot as plt\n",
    "import scipy.stats as stats\n",
    "import seaborn as sns\n",
    "\n",
    "import datetime\n",
    "\n",
    "from sklearn import datasets, linear_model\n",
    "from sklearn.metrics import mean_squared_error,median_absolute_error\n",
    "from sklearn.model_selection import KFold, cross_val_score, cross_val_predict\n",
    "from sklearn import metrics\n",
    "import random\n",
    "\n",
    "from sklearn.linear_model import LinearRegression"
   ]
  },
  {
   "cell_type": "code",
   "execution_count": 18,
   "metadata": {},
   "outputs": [
    {
     "data": {
      "text/html": [
       "<div>\n",
       "<style scoped>\n",
       "    .dataframe tbody tr th:only-of-type {\n",
       "        vertical-align: middle;\n",
       "    }\n",
       "\n",
       "    .dataframe tbody tr th {\n",
       "        vertical-align: top;\n",
       "    }\n",
       "\n",
       "    .dataframe thead th {\n",
       "        text-align: right;\n",
       "    }\n",
       "</style>\n",
       "<table border=\"1\" class=\"dataframe\">\n",
       "  <thead>\n",
       "    <tr style=\"text-align: right;\">\n",
       "      <th></th>\n",
       "      <th>Row number</th>\n",
       "      <th>Date</th>\n",
       "      <th>Number</th>\n",
       "      <th>sales</th>\n",
       "      <th>profit</th>\n",
       "      <th>Bottles_Sold</th>\n",
       "      <th>Volume_Sold</th>\n",
       "    </tr>\n",
       "  </thead>\n",
       "  <tbody>\n",
       "    <tr>\n",
       "      <th>0</th>\n",
       "      <td>1</td>\n",
       "      <td>January 2012</td>\n",
       "      <td>2106</td>\n",
       "      <td>75433.57</td>\n",
       "      <td>1462.38</td>\n",
       "      <td>5532</td>\n",
       "      <td>5032.95</td>\n",
       "    </tr>\n",
       "    <tr>\n",
       "      <th>1</th>\n",
       "      <td>2</td>\n",
       "      <td>January 2012</td>\n",
       "      <td>2113</td>\n",
       "      <td>1945.61</td>\n",
       "      <td>151.56</td>\n",
       "      <td>246</td>\n",
       "      <td>215.50</td>\n",
       "    </tr>\n",
       "    <tr>\n",
       "      <th>2</th>\n",
       "      <td>3</td>\n",
       "      <td>January 2012</td>\n",
       "      <td>2130</td>\n",
       "      <td>61562.72</td>\n",
       "      <td>1301.03</td>\n",
       "      <td>4791</td>\n",
       "      <td>3910.20</td>\n",
       "    </tr>\n",
       "    <tr>\n",
       "      <th>3</th>\n",
       "      <td>4</td>\n",
       "      <td>January 2012</td>\n",
       "      <td>2132</td>\n",
       "      <td>12619.20</td>\n",
       "      <td>600.65</td>\n",
       "      <td>966</td>\n",
       "      <td>979.97</td>\n",
       "    </tr>\n",
       "    <tr>\n",
       "      <th>4</th>\n",
       "      <td>5</td>\n",
       "      <td>January 2012</td>\n",
       "      <td>2152</td>\n",
       "      <td>6660.08</td>\n",
       "      <td>443.45</td>\n",
       "      <td>540</td>\n",
       "      <td>584.01</td>\n",
       "    </tr>\n",
       "  </tbody>\n",
       "</table>\n",
       "</div>"
      ],
      "text/plain": [
       "  Row number          Date  Number     sales   profit  Bottles_Sold  \\\n",
       "0          1  January 2012    2106  75433.57  1462.38          5532   \n",
       "1          2  January 2012    2113   1945.61   151.56           246   \n",
       "2          3  January 2012    2130  61562.72  1301.03          4791   \n",
       "3          4  January 2012    2132  12619.20   600.65           966   \n",
       "4          5  January 2012    2152   6660.08   443.45           540   \n",
       "\n",
       "   Volume_Sold  \n",
       "0      5032.95  \n",
       "1       215.50  \n",
       "2      3910.20  \n",
       "3       979.97  \n",
       "4       584.01  "
      ]
     },
     "execution_count": 18,
     "metadata": {},
     "output_type": "execute_result"
    }
   ],
   "source": [
    "reading_other= pd.read_csv('Data/MonthlyStore.csv')\n",
    "reading_other.head()"
   ]
  },
  {
   "cell_type": "code",
   "execution_count": 4,
   "metadata": {},
   "outputs": [],
   "source": [
    "#represent month in date field as its first day\n",
    "reading_other['Date'] = pd.to_datetime(reading_other['Date'])\n"
   ]
  },
  {
   "cell_type": "code",
   "execution_count": 5,
   "metadata": {},
   "outputs": [
    {
     "data": {
      "text/plain": [
       "Row number              object\n",
       "Date            datetime64[ns]\n",
       "Number                   int64\n",
       "sales                  float64\n",
       "profit                 float64\n",
       "Bottles_Sold             int64\n",
       "Volume_Sold            float64\n",
       "dtype: object"
      ]
     },
     "execution_count": 5,
     "metadata": {},
     "output_type": "execute_result"
    }
   ],
   "source": [
    "reading_other.dtypes"
   ]
  },
  {
   "cell_type": "code",
   "execution_count": 20,
   "metadata": {},
   "outputs": [
    {
     "data": {
      "text/html": [
       "<div>\n",
       "<style scoped>\n",
       "    .dataframe tbody tr th:only-of-type {\n",
       "        vertical-align: middle;\n",
       "    }\n",
       "\n",
       "    .dataframe tbody tr th {\n",
       "        vertical-align: top;\n",
       "    }\n",
       "\n",
       "    .dataframe thead th {\n",
       "        text-align: right;\n",
       "    }\n",
       "</style>\n",
       "<table border=\"1\" class=\"dataframe\">\n",
       "  <thead>\n",
       "    <tr style=\"text-align: right;\">\n",
       "      <th></th>\n",
       "      <th>Row number</th>\n",
       "      <th>Date</th>\n",
       "      <th>Number</th>\n",
       "      <th>sales</th>\n",
       "      <th>profit</th>\n",
       "      <th>Bottles_Sold</th>\n",
       "      <th>Volume_Sold</th>\n",
       "      <th>monthYear</th>\n",
       "    </tr>\n",
       "  </thead>\n",
       "  <tbody>\n",
       "    <tr>\n",
       "      <th>0</th>\n",
       "      <td>1</td>\n",
       "      <td>January 2012</td>\n",
       "      <td>2106</td>\n",
       "      <td>75433.57</td>\n",
       "      <td>1462.38</td>\n",
       "      <td>5532</td>\n",
       "      <td>5032.95</td>\n",
       "      <td>2012-01</td>\n",
       "    </tr>\n",
       "    <tr>\n",
       "      <th>1</th>\n",
       "      <td>2</td>\n",
       "      <td>January 2012</td>\n",
       "      <td>2113</td>\n",
       "      <td>1945.61</td>\n",
       "      <td>151.56</td>\n",
       "      <td>246</td>\n",
       "      <td>215.50</td>\n",
       "      <td>2012-01</td>\n",
       "    </tr>\n",
       "    <tr>\n",
       "      <th>2</th>\n",
       "      <td>3</td>\n",
       "      <td>January 2012</td>\n",
       "      <td>2130</td>\n",
       "      <td>61562.72</td>\n",
       "      <td>1301.03</td>\n",
       "      <td>4791</td>\n",
       "      <td>3910.20</td>\n",
       "      <td>2012-01</td>\n",
       "    </tr>\n",
       "    <tr>\n",
       "      <th>3</th>\n",
       "      <td>4</td>\n",
       "      <td>January 2012</td>\n",
       "      <td>2132</td>\n",
       "      <td>12619.20</td>\n",
       "      <td>600.65</td>\n",
       "      <td>966</td>\n",
       "      <td>979.97</td>\n",
       "      <td>2012-01</td>\n",
       "    </tr>\n",
       "    <tr>\n",
       "      <th>4</th>\n",
       "      <td>5</td>\n",
       "      <td>January 2012</td>\n",
       "      <td>2152</td>\n",
       "      <td>6660.08</td>\n",
       "      <td>443.45</td>\n",
       "      <td>540</td>\n",
       "      <td>584.01</td>\n",
       "      <td>2012-01</td>\n",
       "    </tr>\n",
       "  </tbody>\n",
       "</table>\n",
       "</div>"
      ],
      "text/plain": [
       "  Row number          Date  Number     sales   profit  Bottles_Sold  \\\n",
       "0          1  January 2012    2106  75433.57  1462.38          5532   \n",
       "1          2  January 2012    2113   1945.61   151.56           246   \n",
       "2          3  January 2012    2130  61562.72  1301.03          4791   \n",
       "3          4  January 2012    2132  12619.20   600.65           966   \n",
       "4          5  January 2012    2152   6660.08   443.45           540   \n",
       "\n",
       "   Volume_Sold monthYear  \n",
       "0      5032.95   2012-01  \n",
       "1       215.50   2012-01  \n",
       "2      3910.20   2012-01  \n",
       "3       979.97   2012-01  \n",
       "4       584.01   2012-01  "
      ]
     },
     "execution_count": 20,
     "metadata": {},
     "output_type": "execute_result"
    }
   ],
   "source": [
    "#create a new column which is only the month and year\n",
    "#begin by creating a new df in case I have to go back\n",
    "cityData1 = reading_other\n",
    "\n",
    "#add the new column\n",
    "cityData1['monthYear'] = pd.to_datetime(cityData1['Date']).dt.to_period('M')\n",
    "\n",
    "#display the df\n",
    "cityData1.head()"
   ]
  },
  {
   "cell_type": "code",
   "execution_count": 7,
   "metadata": {},
   "outputs": [
    {
     "data": {
      "text/html": [
       "<div>\n",
       "<style scoped>\n",
       "    .dataframe tbody tr th:only-of-type {\n",
       "        vertical-align: middle;\n",
       "    }\n",
       "\n",
       "    .dataframe tbody tr th {\n",
       "        vertical-align: top;\n",
       "    }\n",
       "\n",
       "    .dataframe thead th {\n",
       "        text-align: right;\n",
       "    }\n",
       "</style>\n",
       "<table border=\"1\" class=\"dataframe\">\n",
       "  <thead>\n",
       "    <tr style=\"text-align: right;\">\n",
       "      <th></th>\n",
       "      <th>sales</th>\n",
       "    </tr>\n",
       "    <tr>\n",
       "      <th>Date</th>\n",
       "      <th></th>\n",
       "    </tr>\n",
       "  </thead>\n",
       "  <tbody>\n",
       "    <tr>\n",
       "      <th>2012-01-01</th>\n",
       "      <td>15916194.22</td>\n",
       "    </tr>\n",
       "    <tr>\n",
       "      <th>2012-02-01</th>\n",
       "      <td>18116104.07</td>\n",
       "    </tr>\n",
       "    <tr>\n",
       "      <th>2012-03-01</th>\n",
       "      <td>18139545.75</td>\n",
       "    </tr>\n",
       "    <tr>\n",
       "      <th>2012-04-01</th>\n",
       "      <td>20004896.97</td>\n",
       "    </tr>\n",
       "    <tr>\n",
       "      <th>2012-05-01</th>\n",
       "      <td>22193521.24</td>\n",
       "    </tr>\n",
       "  </tbody>\n",
       "</table>\n",
       "</div>"
      ],
      "text/plain": [
       "                  sales\n",
       "Date                   \n",
       "2012-01-01  15916194.22\n",
       "2012-02-01  18116104.07\n",
       "2012-03-01  18139545.75\n",
       "2012-04-01  20004896.97\n",
       "2012-05-01  22193521.24"
      ]
     },
     "execution_count": 7,
     "metadata": {},
     "output_type": "execute_result"
    }
   ],
   "source": [
    "#in order to use the df for the model, group all sales by the monthYear.    The Date column will no longer be needed\n",
    "cityData2 = cityData1.groupby(\"Date\").agg({\"sales\":'sum'})\n",
    "cityData2.head()\n",
    "\n",
    "#NOTE:   this df will be used for the 2nd and 3rd parts of the model.  Do not overwrite the df.\n",
    "#The 1st part of the model will used the date in an object format (not datetime format).  "
   ]
  },
  {
   "cell_type": "code",
   "execution_count": 8,
   "metadata": {},
   "outputs": [
    {
     "data": {
      "text/html": [
       "<div>\n",
       "<style scoped>\n",
       "    .dataframe tbody tr th:only-of-type {\n",
       "        vertical-align: middle;\n",
       "    }\n",
       "\n",
       "    .dataframe tbody tr th {\n",
       "        vertical-align: top;\n",
       "    }\n",
       "\n",
       "    .dataframe thead th {\n",
       "        text-align: right;\n",
       "    }\n",
       "</style>\n",
       "<table border=\"1\" class=\"dataframe\">\n",
       "  <thead>\n",
       "    <tr style=\"text-align: right;\">\n",
       "      <th></th>\n",
       "      <th>monthYear</th>\n",
       "      <th>sales</th>\n",
       "    </tr>\n",
       "  </thead>\n",
       "  <tbody>\n",
       "    <tr>\n",
       "      <th>0</th>\n",
       "      <td>2012-01-01</td>\n",
       "      <td>15916194.22</td>\n",
       "    </tr>\n",
       "    <tr>\n",
       "      <th>1</th>\n",
       "      <td>2012-02-01</td>\n",
       "      <td>18116104.07</td>\n",
       "    </tr>\n",
       "    <tr>\n",
       "      <th>2</th>\n",
       "      <td>2012-03-01</td>\n",
       "      <td>18139545.75</td>\n",
       "    </tr>\n",
       "    <tr>\n",
       "      <th>3</th>\n",
       "      <td>2012-04-01</td>\n",
       "      <td>20004896.97</td>\n",
       "    </tr>\n",
       "    <tr>\n",
       "      <th>4</th>\n",
       "      <td>2012-05-01</td>\n",
       "      <td>22193521.24</td>\n",
       "    </tr>\n",
       "  </tbody>\n",
       "</table>\n",
       "</div>"
      ],
      "text/plain": [
       "   monthYear        sales\n",
       "0 2012-01-01  15916194.22\n",
       "1 2012-02-01  18116104.07\n",
       "2 2012-03-01  18139545.75\n",
       "3 2012-04-01  20004896.97\n",
       "4 2012-05-01  22193521.24"
      ]
     },
     "execution_count": 8,
     "metadata": {},
     "output_type": "execute_result"
    }
   ],
   "source": [
    "\n",
    "#make the index a column\n",
    "cityData3 = cityData2.rename_axis('monthYear').reset_index()\n",
    "cityData3.head()"
   ]
  },
  {
   "cell_type": "code",
   "execution_count": 10,
   "metadata": {},
   "outputs": [],
   "source": [
    "cityDateObj = cityData3"
   ]
  },
  {
   "cell_type": "code",
   "execution_count": 11,
   "metadata": {},
   "outputs": [],
   "source": [
    "#Begin by adding  new columns which will contain the month and day as an object.\n",
    "cityDateObj['monthYearStr'] = cityData3['monthYear'].dt.strftime('%Y/%m/%d')"
   ]
  },
  {
   "cell_type": "code",
   "execution_count": 12,
   "metadata": {},
   "outputs": [
    {
     "data": {
      "text/html": [
       "<div>\n",
       "<style scoped>\n",
       "    .dataframe tbody tr th:only-of-type {\n",
       "        vertical-align: middle;\n",
       "    }\n",
       "\n",
       "    .dataframe tbody tr th {\n",
       "        vertical-align: top;\n",
       "    }\n",
       "\n",
       "    .dataframe thead th {\n",
       "        text-align: right;\n",
       "    }\n",
       "</style>\n",
       "<table border=\"1\" class=\"dataframe\">\n",
       "  <thead>\n",
       "    <tr style=\"text-align: right;\">\n",
       "      <th></th>\n",
       "      <th>monthYear</th>\n",
       "      <th>sales</th>\n",
       "      <th>monthYearStr</th>\n",
       "    </tr>\n",
       "  </thead>\n",
       "  <tbody>\n",
       "    <tr>\n",
       "      <th>0</th>\n",
       "      <td>2012-01-01</td>\n",
       "      <td>15916194.22</td>\n",
       "      <td>2012/01/01</td>\n",
       "    </tr>\n",
       "    <tr>\n",
       "      <th>1</th>\n",
       "      <td>2012-02-01</td>\n",
       "      <td>18116104.07</td>\n",
       "      <td>2012/02/01</td>\n",
       "    </tr>\n",
       "    <tr>\n",
       "      <th>2</th>\n",
       "      <td>2012-03-01</td>\n",
       "      <td>18139545.75</td>\n",
       "      <td>2012/03/01</td>\n",
       "    </tr>\n",
       "    <tr>\n",
       "      <th>3</th>\n",
       "      <td>2012-04-01</td>\n",
       "      <td>20004896.97</td>\n",
       "      <td>2012/04/01</td>\n",
       "    </tr>\n",
       "    <tr>\n",
       "      <th>4</th>\n",
       "      <td>2012-05-01</td>\n",
       "      <td>22193521.24</td>\n",
       "      <td>2012/05/01</td>\n",
       "    </tr>\n",
       "  </tbody>\n",
       "</table>\n",
       "</div>"
      ],
      "text/plain": [
       "   monthYear        sales monthYearStr\n",
       "0 2012-01-01  15916194.22   2012/01/01\n",
       "1 2012-02-01  18116104.07   2012/02/01\n",
       "2 2012-03-01  18139545.75   2012/03/01\n",
       "3 2012-04-01  20004896.97   2012/04/01\n",
       "4 2012-05-01  22193521.24   2012/05/01"
      ]
     },
     "execution_count": 12,
     "metadata": {},
     "output_type": "execute_result"
    }
   ],
   "source": [
    "cityDateObj.head()"
   ]
  },
  {
   "cell_type": "code",
   "execution_count": 14,
   "metadata": {},
   "outputs": [],
   "source": [
    "#Create a new df with ONLY the date as an object and the sales\n",
    "cityDateObj2 = cityDateObj[['monthYear', 'sales']].copy()"
   ]
  },
  {
   "cell_type": "code",
   "execution_count": 15,
   "metadata": {},
   "outputs": [
    {
     "data": {
      "text/html": [
       "<div>\n",
       "<style scoped>\n",
       "    .dataframe tbody tr th:only-of-type {\n",
       "        vertical-align: middle;\n",
       "    }\n",
       "\n",
       "    .dataframe tbody tr th {\n",
       "        vertical-align: top;\n",
       "    }\n",
       "\n",
       "    .dataframe thead th {\n",
       "        text-align: right;\n",
       "    }\n",
       "</style>\n",
       "<table border=\"1\" class=\"dataframe\">\n",
       "  <thead>\n",
       "    <tr style=\"text-align: right;\">\n",
       "      <th></th>\n",
       "      <th>monthYear</th>\n",
       "      <th>sales</th>\n",
       "    </tr>\n",
       "  </thead>\n",
       "  <tbody>\n",
       "    <tr>\n",
       "      <th>0</th>\n",
       "      <td>2012-01-01</td>\n",
       "      <td>15916194.22</td>\n",
       "    </tr>\n",
       "    <tr>\n",
       "      <th>1</th>\n",
       "      <td>2012-02-01</td>\n",
       "      <td>18116104.07</td>\n",
       "    </tr>\n",
       "    <tr>\n",
       "      <th>2</th>\n",
       "      <td>2012-03-01</td>\n",
       "      <td>18139545.75</td>\n",
       "    </tr>\n",
       "    <tr>\n",
       "      <th>3</th>\n",
       "      <td>2012-04-01</td>\n",
       "      <td>20004896.97</td>\n",
       "    </tr>\n",
       "    <tr>\n",
       "      <th>4</th>\n",
       "      <td>2012-05-01</td>\n",
       "      <td>22193521.24</td>\n",
       "    </tr>\n",
       "  </tbody>\n",
       "</table>\n",
       "</div>"
      ],
      "text/plain": [
       "   monthYear        sales\n",
       "0 2012-01-01  15916194.22\n",
       "1 2012-02-01  18116104.07\n",
       "2 2012-03-01  18139545.75\n",
       "3 2012-04-01  20004896.97\n",
       "4 2012-05-01  22193521.24"
      ]
     },
     "execution_count": 15,
     "metadata": {},
     "output_type": "execute_result"
    }
   ],
   "source": [
    "cityDateObj2.head()"
   ]
  },
  {
   "cell_type": "code",
   "execution_count": 21,
   "metadata": {},
   "outputs": [
    {
     "data": {
      "text/plain": [
       "monthYear    datetime64[ns]\n",
       "sales               float64\n",
       "dtype: object"
      ]
     },
     "execution_count": 21,
     "metadata": {},
     "output_type": "execute_result"
    }
   ],
   "source": [
    "cityDateObj2.dtypes"
   ]
  },
  {
   "cell_type": "code",
   "execution_count": 23,
   "metadata": {},
   "outputs": [
    {
     "name": "stdout",
     "output_type": "stream",
     "text": [
      "   monthYear        sales\n",
      "0 2012-01-01  15916194.22\n",
      "1 2012-02-01  18116104.07\n",
      "2 2012-03-01  18139545.75\n",
      "3 2012-04-01  20004896.97\n",
      "4 2012-05-01  22193521.24\n"
     ]
    },
    {
     "data": {
      "image/png": "[encoded data removed]",
      "text/plain": [
       "<Figure size 432x288 with 1 Axes>"
      ]
     },
     "metadata": {
      "needs_background": "light"
     },
     "output_type": "display_data"
    }
   ],
   "source": [
    "print(cityDateObj2.head())\n",
    "cityDateObj2.plot(x='monthYear',y='sales')\n",
    "plt.show()"
   ]
  },
  {
   "cell_type": "code",
   "execution_count": 26,
   "metadata": {},
   "outputs": [
    {
     "name": "stderr",
     "output_type": "stream",
     "text": [
      "C:\\Users\\francis\\AppData\\Local\\Continuum\\anaconda3\\lib\\site-packages\\statsmodels\\tsa\\base\\tsa_model.py:171: ValueWarning: No frequency information was provided, so inferred frequency MS will be used.\n",
      "  % freq, ValueWarning)\n",
      "C:\\Users\\francis\\AppData\\Local\\Continuum\\anaconda3\\lib\\site-packages\\statsmodels\\tsa\\base\\tsa_model.py:171: ValueWarning: No frequency information was provided, so inferred frequency MS will be used.\n",
      "  % freq, ValueWarning)\n"
     ]
    },
    {
     "name": "stdout",
     "output_type": "stream",
     "text": [
      "                             ARIMA Model Results                              \n",
      "==============================================================================\n",
      "Dep. Variable:                D.sales   No. Observations:                   89\n",
      "Model:                 ARIMA(3, 1, 0)   Log Likelihood               -1489.961\n",
      "Method:                       css-mle   S.D. of innovations        4487427.782\n",
      "Date:                Tue, 06 Aug 2019   AIC                           2989.922\n",
      "Time:                        20:14:05   BIC                           3002.366\n",
      "Sample:                    02-01-2012   HQIC                          2994.938\n",
      "                         - 06-01-2019                                         \n",
      "=================================================================================\n",
      "                    coef    std err          z      P>|z|      [0.025      0.975]\n",
      "---------------------------------------------------------------------------------\n",
      "const          1.456e+05   1.77e+05      0.823      0.413   -2.01e+05    4.93e+05\n",
      "ar.L1.D.sales    -0.9544      0.105     -9.061      0.000      -1.161      -0.748\n",
      "ar.L2.D.sales    -0.5427      0.138     -3.929      0.000      -0.813      -0.272\n",
      "ar.L3.D.sales    -0.2250      0.115     -1.964      0.053      -0.450      -0.000\n",
      "                                    Roots                                    \n",
      "=============================================================================\n",
      "                  Real          Imaginary           Modulus         Frequency\n",
      "-----------------------------------------------------------------------------\n",
      "AR.1           -1.5347           -0.0000j            1.5347           -0.5000\n",
      "AR.2           -0.4384           -1.6442j            1.7016           -0.2915\n",
      "AR.3           -0.4384           +1.6442j            1.7016            0.2915\n",
      "-----------------------------------------------------------------------------\n"
     ]
    },
    {
     "data": {
      "image/png": "[encoded data removed]",
      "text/plain": [
       "<Figure size 432x288 with 1 Axes>"
      ]
     },
     "metadata": {
      "needs_background": "light"
     },
     "output_type": "display_data"
    },
    {
     "data": {
      "image/png": "[encoded data removed]",
      "text/plain": [
       "<Figure size 432x288 with 1 Axes>"
      ]
     },
     "metadata": {
      "needs_background": "light"
     },
     "output_type": "display_data"
    },
    {
     "name": "stdout",
     "output_type": "stream",
     "text": [
      "                  0\n",
      "count  8.900000e+01\n",
      "mean   8.129621e+04\n",
      "std    4.515517e+06\n",
      "min   -8.170727e+06\n",
      "25%   -2.726288e+06\n",
      "50%   -8.007624e+03\n",
      "75%    2.375292e+06\n",
      "max    2.118492e+07\n"
     ]
    }
   ],
   "source": [
    "from statsmodels.tsa.arima_model import ARIMA\n",
    "from numpy.linalg import LinAlgError\n",
    "from pandas import DataFrame\n",
    "import statsmodels.api as sm\n",
    "\n",
    "#This model needs a datetime format for the date; therefore, use the cityData2 df.\n",
    "\n",
    "# fit model\n",
    "model = ARIMA(cityData2, order=(3,1,0))\n",
    "model_fit = model.fit(disp=0)\n",
    "print(model_fit.summary())\n",
    "\n",
    "# plot residual errors\n",
    "residuals = DataFrame(model_fit.resid)\n",
    "residuals.plot()\n",
    "plt.show()\n",
    "residuals.plot(kind='kde')\n",
    "plt.show()\n",
    "print(residuals.describe())"
   ]
  },
  {
   "cell_type": "code",
   "execution_count": 28,
   "metadata": {},
   "outputs": [
    {
     "name": "stdout",
     "output_type": "stream",
     "text": [
      "predicted=26869296.391506, expected=32574086.690000\n",
      "predicted=27688214.102276, expected=20068372.860000\n",
      "predicted=30144757.472403, expected=23086289.250000\n",
      "predicted=24940922.106477, expected=25019491.260000\n",
      "predicted=23536745.615691, expected=23176630.270000\n",
      "predicted=24135098.471615, expected=28227485.870000\n",
      "predicted=24564787.585564, expected=28626061.960000\n",
      "predicted=27008015.325137, expected=25200614.710000\n",
      "predicted=28175615.776392, expected=27647610.170000\n",
      "predicted=27083044.231013, expected=24463707.550000\n",
      "predicted=26996424.314507, expected=30779422.100000\n",
      "predicted=26477464.682571, expected=26848928.020000\n",
      "predicted=28709572.386742, expected=31385430.790000\n",
      "predicted=28707741.093658, expected=22606806.940000\n",
      "predicted=29691816.611003, expected=22861176.420000\n",
      "predicted=25591098.522541, expected=24873041.230000\n",
      "predicted=23920524.796460, expected=26214746.690000\n",
      "predicted=24603585.858445, expected=30180818.390000\n",
      "predicted=26547913.118078, expected=28574027.260000\n",
      "predicted=28975331.240617, expected=26194368.030000\n",
      "predicted=28774101.397517, expected=30507640.510000\n",
      "predicted=28089185.523820, expected=23804290.690000\n",
      "predicted=28669483.294753, expected=34609253.410000\n",
      "predicted=27361755.081621, expected=28764343.450000\n",
      "predicted=31224722.448558, expected=35026330.050000\n",
      "predicted=31080826.040613, expected=23466782.590000\n",
      "predicted=32714010.895214, expected=24641910.490000\n",
      "predicted=26823982.745762, expected=49965456.720000\n",
      "predicted=27551308.116636, expected=27788607.850000\n",
      "predicted=36025363.803192, expected=32756773.270000\n",
      "predicted=36481897.307019, expected=28877030.960000\n",
      "Test MSE: 36733042827456.641\n"
     ]
    },
    {
     "data": {
      "image/png": "[encoded data removed]",
      "text/plain": [
       "<Figure size 432x288 with 1 Axes>"
      ]
     },
     "metadata": {
      "needs_background": "light"
     },
     "output_type": "display_data"
    }
   ],
   "source": [
    "from sklearn.metrics import mean_squared_error\n",
    "\n",
    "#This model needs a datetime format for the date; therefore, use the cityData2 df.\n",
    "\n",
    "X = cityData2.values\n",
    "size = int(len(X) * 0.66)\n",
    "train, test = X[0:size], X[size:len(X)]\n",
    "history = [x for x in train]\n",
    "predictions = list()\n",
    "for t in range(len(test)):\n",
    "\tmodel = ARIMA(history, order=(3,1,0))\n",
    "\tmodel_fit = model.fit(disp=0)\n",
    "\toutput = model_fit.forecast()\n",
    "\tyhat = output[0]\n",
    "\tpredictions.append(yhat)\n",
    "\tobs = test[t]\n",
    "\thistory.append(obs)\n",
    "\tprint('predicted=%f, expected=%f' % (yhat, obs))\n",
    "error = mean_squared_error(test, predictions)\n",
    "print('Test MSE: %.3f' % error)\n",
    "# plot\n",
    "plt.plot(test)\n",
    "plt.plot(predictions, color='red')\n",
    "plt.show()"
   ]
  },
  {
   "cell_type": "code",
   "execution_count": null,
   "metadata": {},
   "outputs": [],
   "source": []
  }
 ],
 "metadata": {
  "kernelspec": {
   "display_name": "Python 3",
   "language": "python",
   "name": "python3"
  },
  "language_info": {
   "codemirror_mode": {
    "name": "ipython",
    "version": 3
   },
   "file_extension": ".py",
   "mimetype": "text/x-python",
   "name": "python",
   "nbconvert_exporter": "python",
   "pygments_lexer": "ipython3",
   "version": "3.7.3"
  }
 },
 "nbformat": 4,
 "nbformat_minor": 2
}
